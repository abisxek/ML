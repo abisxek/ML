{
 "cells": [
  {
   "cell_type": "code",
   "execution_count": 1,
   "id": "1e823220",
   "metadata": {},
   "outputs": [],
   "source": [
    "import numpy as np"
   ]
  },
  {
   "cell_type": "code",
   "execution_count": 3,
   "id": "152b7aed",
   "metadata": {},
   "outputs": [],
   "source": [
    "def find_S(concept,target):\n",
    "    specific_h=[\"0\" for _ in range (len(concept[0]))]\n",
    "    \n",
    "    for i,concept in enumerate(concept):\n",
    "        if target[i]==\"Y\":\n",
    "            for j in range (len(specific_h)):\n",
    "                if specific_h[j]==\"0\":\n",
    "                    specific_h[j]=concept[j]\n",
    "                elif specific_h[j]!=concept[j]:\n",
    "                    specific_h[j]=\"?\"\n",
    "    return specific_h                "
   ]
  },
  {
   "cell_type": "code",
   "execution_count": 5,
   "id": "f4e75916",
   "metadata": {},
   "outputs": [],
   "source": [
    "concept = np.array([\n",
    "      ['sunny','warm','normal','strong','warm','same'],\n",
    "      ['sunny','warm','high','strong','warm','same'],\n",
    "      ['rainy','cold','high','strong','warm','change'],\n",
    "      ['sunny','warm','high','strong','cold','change']\n",
    "])\n",
    "target = np.array(['Y','Y','N','Y'])"
   ]
  },
  {
   "cell_type": "code",
   "execution_count": 7,
   "id": "7593dcfa",
   "metadata": {},
   "outputs": [
    {
     "name": "stdout",
     "output_type": "stream",
     "text": [
      "specific Hypothesis ['sunny', 'warm', '?', 'strong', '?', '?']\n"
     ]
    }
   ],
   "source": [
    "specific = find_S(concept,target)\n",
    "print(\"specific Hypothesis\",specific)"
   ]
  },
  {
   "cell_type": "code",
   "execution_count": null,
   "id": "c7d6df06",
   "metadata": {},
   "outputs": [],
   "source": []
  }
 ],
 "metadata": {
  "kernelspec": {
   "display_name": "Python 3 (ipykernel)",
   "language": "python",
   "name": "python3"
  },
  "language_info": {
   "codemirror_mode": {
    "name": "ipython",
    "version": 3
   },
   "file_extension": ".py",
   "mimetype": "text/x-python",
   "name": "python",
   "nbconvert_exporter": "python",
   "pygments_lexer": "ipython3",
   "version": "3.11.3"
  }
 },
 "nbformat": 4,
 "nbformat_minor": 5
}
