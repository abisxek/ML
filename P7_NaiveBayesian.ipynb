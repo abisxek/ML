{
 "cells": [
  {
   "cell_type": "code",
   "execution_count": 1,
   "id": "ca629b37",
   "metadata": {},
   "outputs": [],
   "source": [
    "from sklearn.datasets import fetch_20newsgroups\n",
    "from sklearn.feature_extraction.text import CountVectorizer\n",
    "from sklearn.naive_bayes import MultinomialNB\n",
    "from sklearn.metrics import accuracy_score, precision_score, recall_score"
   ]
  },
  {
   "cell_type": "code",
   "execution_count": 2,
   "id": "c8cdbe66",
   "metadata": {},
   "outputs": [],
   "source": [
    "newsgroups_train=fetch_20newsgroups(subset='train')\n",
    "newsgroups_test=fetch_20newsgroups(subset='test')"
   ]
  },
  {
   "cell_type": "code",
   "execution_count": 5,
   "id": "3be34e99",
   "metadata": {},
   "outputs": [],
   "source": [
    "vectorizer=CountVectorizer()\n",
    "X_train=vectorizer.fit_transform(newsgroups_train.data)\n",
    "X_test=vectorizer.transform(newsgroups_test.data)"
   ]
  },
  {
   "cell_type": "code",
   "execution_count": 6,
   "id": "e66b71fc",
   "metadata": {},
   "outputs": [],
   "source": [
    "y_train=newsgroups_train.target\n",
    "y_test=newsgroups_test.target"
   ]
  },
  {
   "cell_type": "code",
   "execution_count": 7,
   "id": "a1680653",
   "metadata": {},
   "outputs": [],
   "source": [
    "nb=MultinomialNB()\n",
    "nb.fit(X_train,y_train)\n",
    "y_pred=nb.predict(X_test)"
   ]
  },
  {
   "cell_type": "code",
   "execution_count": 9,
   "id": "2a57b274",
   "metadata": {},
   "outputs": [],
   "source": [
    "accuracy=accuracy_score(y_test,y_pred)\n",
    "precision=precision_score(y_test,y_pred,average='weighted')\n",
    "recall=recall_score(y_test,y_pred,average='weighted')"
   ]
  },
  {
   "cell_type": "code",
   "execution_count": 10,
   "id": "ae677268",
   "metadata": {},
   "outputs": [
    {
     "name": "stdout",
     "output_type": "stream",
     "text": [
      "accuracy 0.7728359001593202\n",
      "precision 0.7616683207318354\n",
      "recall 0.7728359001593202\n"
     ]
    }
   ],
   "source": [
    "print(\"accuracy\",accuracy)\n",
    "print(\"precision\",precision)\n",
    "print(\"recall\",recall)"
   ]
  },
  {
   "cell_type": "code",
   "execution_count": 13,
   "id": "d9eaf192",
   "metadata": {},
   "outputs": [
    {
     "name": "stdout",
     "output_type": "stream",
     "text": [
      "confusion matrix \n",
      " [[245   0   0   1   0   1   0   0   1   0   2   1   1   2   2  41   2  11\n",
      "    5   4]\n",
      " [  1 287   0  12   4  31   1   0   0   1   0  26   5   2   8   2   2   1\n",
      "    6   0]\n",
      " [  2  55   1 134  13 112   2   0   1   3   1  31   4   4   8   5   2   1\n",
      "   14   1]\n",
      " [  0  11   1 300  15  11   3   5   0   0   1  11  23   0   5   0   1   2\n",
      "    3   0]\n",
      " [  0  12   1  22 289   5   3   5   1   1   0  14  10   3   3   1   4   2\n",
      "    9   0]\n",
      " [  1  25   2  11   1 332   0   0   0   0   0  13   0   2   4   1   2   1\n",
      "    0   0]\n",
      " [  0   6   0  35  17   3 253  16   4   1   4   6  16   7   6   2   5   4\n",
      "    5   0]\n",
      " [  0   1   0   2   0   0   4 360   3   2   2   3   0   0   4   0   4   2\n",
      "    9   0]\n",
      " [  0   0   0   1   0   0   2  13 365   0   0   4   0   0   0   1   3   4\n",
      "    5   0]\n",
      " [  1   1   0   0   1   1   0   6   0 345  16   0   0   0   5   6   2   2\n",
      "   11   0]\n",
      " [  0   0   0   0   0   0   0   0   0   2 385   1   0   1   1   3   1   2\n",
      "    3   0]\n",
      " [  0   3   0   0   0   2   1   2   0   0   0 377   2   1   1   0   2   1\n",
      "    4   0]\n",
      " [  0  14   0  17   5   5   0   5   1   0   1  58 261  11   6   2   1   3\n",
      "    3   0]\n",
      " [  7   6   0   2   0   0   1   1   0   2   1   4   5 325   3  16   1   7\n",
      "   15   0]\n",
      " [  1   4   0   0   0   4   0   1   0   0   0   1   2   4 351   5   2   3\n",
      "   16   0]\n",
      " [  3   2   0   0   0   1   0   0   0   0   1   0   0   2   2 382   0   1\n",
      "    0   4]\n",
      " [  0   0   0   1   0   0   1   0   3   0   0   6   0   1   0   2 330   6\n",
      "   13   1]\n",
      " [  1   1   0   0   0   2   0   0   0   1   0   3   0   2   0   3   2 354\n",
      "    7   0]\n",
      " [  1   0   0   0   0   0   0   1   0   0   0   4   0   2  10   5  87   5\n",
      "  195   0]\n",
      " [ 47   2   0   0   0   0   0   0   0   0   1   2   0   3   3  70  22   5\n",
      "   12  84]]\n"
     ]
    }
   ],
   "source": [
    "from sklearn.metrics import confusion_matrix\n",
    "print(\"confusion matrix \\n\",confusion_matrix(y_test,y_pred))"
   ]
  },
  {
   "cell_type": "code",
   "execution_count": null,
   "id": "1133278f",
   "metadata": {},
   "outputs": [],
   "source": []
  }
 ],
 "metadata": {
  "kernelspec": {
   "display_name": "Python 3 (ipykernel)",
   "language": "python",
   "name": "python3"
  },
  "language_info": {
   "codemirror_mode": {
    "name": "ipython",
    "version": 3
   },
   "file_extension": ".py",
   "mimetype": "text/x-python",
   "name": "python",
   "nbconvert_exporter": "python",
   "pygments_lexer": "ipython3",
   "version": "3.11.3"
  }
 },
 "nbformat": 4,
 "nbformat_minor": 5
}
