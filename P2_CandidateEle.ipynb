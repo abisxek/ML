{
 "cells": [
  {
   "cell_type": "code",
   "execution_count": 8,
   "id": "0d5a38e2",
   "metadata": {},
   "outputs": [],
   "source": [
    "import numpy as np"
   ]
  },
  {
   "cell_type": "code",
   "execution_count": 9,
   "id": "10e4a1d9",
   "metadata": {},
   "outputs": [],
   "source": [
    "def candidate_algo(concept,target):\n",
    "    specific_h = concept[0].copy()\n",
    "    general_h = [[\"?\" for _ in range (len(specific_h))]for _ in range (len(specific_h))]\n",
    "    \n",
    "    for i ,concept in enumerate(concept):\n",
    "        if target[i] == \"Y\":\n",
    "            for j in range (len(specific_h)):\n",
    "                if concept[j] != specific_h[j]:\n",
    "                    specific_h[j] = \"?\"\n",
    "                    general_h[j][j] = \"?\"\n",
    "                    \n",
    "        if target[i] == \"N\":\n",
    "            for j in range (len(specific_h)):\n",
    "                if concept[j] != specific_h[j]:\n",
    "                    general_h[j][j] =  specific_h[j]\n",
    "                else:\n",
    "                    general_h[j][j] = \"?\"\n",
    "    general_h=[hp for hp in general_h if hp!=[\"?\" for _ in range (len(specific_h))]]\n",
    "    return specific_h,general_h"
   ]
  },
  {
   "cell_type": "code",
   "execution_count": 10,
   "id": "609625b0",
   "metadata": {},
   "outputs": [],
   "source": [
    "concept = np.array([\n",
    "      ['sunny','warm','normal','strong','warm','same'],\n",
    "      ['sunny','warm','high','strong','warm','same'],\n",
    "      ['rainy','cold','high','strong','warm','change'],\n",
    "      ['sunny','warm','high','strong','cold','change']\n",
    "])\n",
    "target = np.array(['Y','Y','N','Y'])"
   ]
  },
  {
   "cell_type": "code",
   "execution_count": 11,
   "id": "cdacdfad",
   "metadata": {},
   "outputs": [
    {
     "name": "stdout",
     "output_type": "stream",
     "text": [
      "specific Hypothesis ['sunny' 'warm' '?' 'strong' '?' '?']\n",
      "general Hypothesis [['sunny', '?', '?', '?', '?', '?'], ['?', 'warm', '?', '?', '?', '?']]\n"
     ]
    }
   ],
   "source": [
    "specific,general = candidate_algo(concept,target)\n",
    "print(\"specific Hypothesis\",specific)\n",
    "print(\"general Hypothesis\",general)"
   ]
  },
  {
   "cell_type": "code",
   "execution_count": null,
   "id": "9e291f5e",
   "metadata": {},
   "outputs": [],
   "source": []
  }
 ],
 "metadata": {
  "kernelspec": {
   "display_name": "Python 3 (ipykernel)",
   "language": "python",
   "name": "python3"
  },
  "language_info": {
   "codemirror_mode": {
    "name": "ipython",
    "version": 3
   },
   "file_extension": ".py",
   "mimetype": "text/x-python",
   "name": "python",
   "nbconvert_exporter": "python",
   "pygments_lexer": "ipython3",
   "version": "3.11.3"
  }
 },
 "nbformat": 4,
 "nbformat_minor": 5
}
